{
 "cells": [
  {
   "cell_type": "code",
   "execution_count": null,
   "id": "af726fa1",
   "metadata": {},
   "outputs": [],
   "source": [
    "# Create a dictionary\n",
    "my_dict = dict(name = \"Elijah\", age = 19, city = \"Plant City\")\n",
    "\n"
   ]
  },
  {
   "cell_type": "code",
   "execution_count": 3,
   "id": "1d63780a",
   "metadata": {},
   "outputs": [
    {
     "name": "stdout",
     "output_type": "stream",
     "text": [
      "dict_keys(['name', 'age', 'city'])\n",
      "dict_values(['Elijah', 19, 'Plant City'])\n",
      "dict_items([('name', 'Elijah'), ('age', 19), ('city', 'Plant City')])\n"
     ]
    }
   ],
   "source": [
    "# Keys - returns all the Keys\n",
    "print(my_dict.keys())\n",
    "\n",
    "# Values - returns all the Values\n",
    "print(my_dict.values())\n",
    "\n",
    "# items - returns all key-value pairs\n",
    "print(my_dict.items())\n",
    "\n"
   ]
  },
  {
   "cell_type": "code",
   "execution_count": 6,
   "id": "e9ba4d2f",
   "metadata": {},
   "outputs": [
    {
     "name": "stdout",
     "output_type": "stream",
     "text": [
      "{'banana': 4, 'apple': 1, 'orange': 2}\n"
     ]
    }
   ],
   "source": [
    "# Practice \n",
    "# Count the frequency of each word\n",
    "msg = \"banana apple orange orange banana banana banana\"\n",
    "\n",
    "words = msg.split(\" \")\n",
    "# Create an empty dictionary\n",
    "word_count = {}\n",
    "for word in words:\n",
    "    word_count[word] = word_count.get(word, 0) + 1\n",
    "\n",
    "print(word_count)"
   ]
  },
  {
   "cell_type": "code",
   "execution_count": null,
   "id": "282e9716",
   "metadata": {},
   "outputs": [],
   "source": [
    "# SETS "
   ]
  },
  {
   "cell_type": "code",
   "execution_count": 12,
   "id": "5e0a6cde",
   "metadata": {},
   "outputs": [
    {
     "name": "stdout",
     "output_type": "stream",
     "text": [
      "{'blue', 'red', 'green'}\n",
      "{1, 2, 3, 4}\n",
      "set()\n"
     ]
    }
   ],
   "source": [
    "# Create a set = collection of unique values\n",
    "\n",
    "colors = {\"blue\", \"red\", \"green\"}\n",
    "\n",
    "l = [1, 2, 3, 4, 3]\n",
    "\n",
    "my_set = set(l)\n",
    "\n",
    "# Empty set\n",
    "empty_set = set()\n",
    "\n",
    "print(colors)\n",
    "print(my_set)\n",
    "print(empty_set)\n"
   ]
  },
  {
   "cell_type": "code",
   "execution_count": null,
   "id": "71872388",
   "metadata": {},
   "outputs": [
    {
     "name": "stdout",
     "output_type": "stream",
     "text": [
      "{1, 2, 3, 4, 5, 6, 7, 8}\n",
      "{4, 5}\n",
      "{1, 2, 3}\n",
      "{8, 6, 7}\n",
      "{1, 2, 3, 6, 7, 8}\n"
     ]
    }
   ],
   "source": [
    "set1 = {1, 2, 3, 4, 5}\n",
    "set2 = {4, 5, 6, 7, 8}\n",
    "\n",
    "# Combine elements of two sets\n",
    "print(set1 | set2)\n",
    "\n",
    "# Intersection of two sets\n",
    "print(set1 & set2)\n",
    "\n",
    "# Difference of two sets\n",
    "print(set1 - set2)\n",
    "print(set2 - set1)\n",
    "\n",
    "# Symmetric difference\n",
    "print(set1 ^ set2)"
   ]
  },
  {
   "cell_type": "code",
   "execution_count": 20,
   "id": "5cd7d9cf",
   "metadata": {},
   "outputs": [
    {
     "name": "stdout",
     "output_type": "stream",
     "text": [
      "{'red', 'green', 'purple'}\n"
     ]
    }
   ],
   "source": [
    "# Add and remove elements to the sets \n",
    "colors = {\"blue\", \"red\", \"green\"}\n",
    "\n",
    "colors.add(\"purple\")\n",
    "colors.remove(\"blue\") # generates an error if the value doesn't exist\n",
    "colors.discard(\"blue\") # no error if not found\n",
    "\n",
    "print(colors)"
   ]
  }
 ],
 "metadata": {
  "kernelspec": {
   "display_name": "Python 3",
   "language": "python",
   "name": "python3"
  },
  "language_info": {
   "codemirror_mode": {
    "name": "ipython",
    "version": 3
   },
   "file_extension": ".py",
   "mimetype": "text/x-python",
   "name": "python",
   "nbconvert_exporter": "python",
   "pygments_lexer": "ipython3",
   "version": "3.12.1"
  }
 },
 "nbformat": 4,
 "nbformat_minor": 5
}
