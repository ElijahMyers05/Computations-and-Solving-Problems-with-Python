{
 "cells": [
  {
   "cell_type": "code",
   "execution_count": 12,
   "id": "b7c47d6f",
   "metadata": {},
   "outputs": [
    {
     "name": "stdout",
     "output_type": "stream",
     "text": [
      "COP\n"
     ]
    }
   ],
   "source": [
    "# Create a tuple\n",
    "my_tuple = (1, 2, 3.54, \"COP\")\n",
    "\n",
    "# Access the values\n",
    "print(my_tuple[-1])\n",
    "\n",
    "# Cannot modify the values\n",
    "# my_tuple(0) = 5 # Error"
   ]
  },
  {
   "cell_type": "code",
   "execution_count": 13,
   "id": "e6894bce",
   "metadata": {},
   "outputs": [
    {
     "name": "stdout",
     "output_type": "stream",
     "text": [
      "True\n",
      "False\n"
     ]
    }
   ],
   "source": [
    "# Membership testing\n",
    "print(1 in my_tuple)\n",
    "print(5 in my_tuple)\n"
   ]
  },
  {
   "cell_type": "code",
   "execution_count": 14,
   "id": "c6d3aa75",
   "metadata": {},
   "outputs": [
    {
     "name": "stdout",
     "output_type": "stream",
     "text": [
      "1 2 3.54 COP\n"
     ]
    }
   ],
   "source": [
    "# Tuple Unpacking\n",
    "a, b, c, d = my_tuple\n",
    "print(a, b, c, d)\n"
   ]
  },
  {
   "cell_type": "code",
   "execution_count": null,
   "id": "781e6ae9",
   "metadata": {},
   "outputs": [],
   "source": []
  }
 ],
 "metadata": {
  "kernelspec": {
   "display_name": "Python 3",
   "language": "python",
   "name": "python3"
  },
  "language_info": {
   "codemirror_mode": {
    "name": "ipython",
    "version": 3
   },
   "file_extension": ".py",
   "mimetype": "text/x-python",
   "name": "python",
   "nbconvert_exporter": "python",
   "pygments_lexer": "ipython3",
   "version": "3.12.1"
  }
 },
 "nbformat": 4,
 "nbformat_minor": 5
}
