{
 "cells": [
  {
   "cell_type": "code",
   "execution_count": 6,
   "id": "c6f1f323",
   "metadata": {},
   "outputs": [
    {
     "name": "stdout",
     "output_type": "stream",
     "text": [
      "f took: 0.3002610206604004\n"
     ]
    }
   ],
   "source": [
    "# Measure the execution time of a function\n",
    "\n",
    "# Import time functions (specific import)\n",
    "from time import sleep, time\n",
    "\n",
    "def f():\n",
    "    sleep(0.3) # Stops the execution on the given number of seconds\n",
    "\n",
    "def g():\n",
    "    sleep(0.5)\n",
    "t = time() # return the number of seconds from 01/01/1970\n",
    "f() \n",
    "print(\"f took:\", time()- t)\n"
   ]
  },
  {
   "cell_type": "code",
   "execution_count": 7,
   "id": "6830de6d",
   "metadata": {},
   "outputs": [
    {
     "name": "stdout",
     "output_type": "stream",
     "text": [
      "f took: 0.3001139163970947\n",
      "g took: 0.5001153945922852\n"
     ]
    }
   ],
   "source": [
    "# Lets create a function that takes another \n",
    "def measure(func):\n",
    "    t = time()\n",
    "    func()\n",
    "    print(func.__name__, \"took:\", time() - t)\n",
    "\n",
    "measure(f)\n",
    "measure(g)"
   ]
  },
  {
   "cell_type": "code",
   "execution_count": 12,
   "id": "40327f8d",
   "metadata": {},
   "outputs": [
    {
     "name": "stdout",
     "output_type": "stream",
     "text": [
      "f2 took: 0.3000919818878174\n",
      "f2 took: 0.3000950813293457\n",
      "f2 took: 0.30009007453918457\n"
     ]
    }
   ],
   "source": [
    "# Take a function with arguments \n",
    "\n",
    "def f2(sleep_time = 0.1):\n",
    "    sleep(0.3) # Stops the execution on the given number of seconds\n",
    "\n",
    "# Measure is a decorator\n",
    "def measure(func, *args, **kwargs):\n",
    "     t = time() #starting time\n",
    "     func(*args, **kwargs) # function call\n",
    "     print(func.__name__, \"took:\", time() - t)\n",
    "\n",
    "measure(f2)\n",
    "measure(f2, 0.9)\n",
    "measure(f2, sleep_time = 1)\n"
   ]
  },
  {
   "cell_type": "code",
   "execution_count": 15,
   "id": "f9712aad",
   "metadata": {},
   "outputs": [],
   "source": [
    "# Take a function with arguments \n",
    "\n",
    "def f2(sleep_time = 0.1):\n",
    "    sleep(0.3) # Stops the execution on the given number of seconds\n",
    "\n",
    "# Measure is a decorator\n",
    "def measure(func):\n",
    "    def wrapper(*args, **kwargs):\n",
    "        t = time() #starting time\n",
    "        func(*args, **kwargs) # function call\n",
    "        print(func.__name__, \"took:\", time() - t)\n",
    "    return wrapper\n",
    "\n",
    "\n",
    "\n"
   ]
  },
  {
   "cell_type": "code",
   "execution_count": 16,
   "id": "1fd00e5c",
   "metadata": {},
   "outputs": [],
   "source": [
    "from time import time,sleep\n",
    "\n",
    "\n",
    "# Measure is a decorator\n",
    "def measure(func):\n",
    "    def wrapper(*args, **kwargs):\n",
    "        t = time() #starting time\n",
    "        func(*args, **kwargs) # function call\n",
    "        print(func.__name__, \"took:\", time() - t)\n",
    "    return wrapper\n",
    "\n",
    "@measure \n",
    "def f2(sleep_time = 0.1):\n",
    "    sleep(0.3) # Stops the execution on the given number of seconds\n"
   ]
  }
 ],
 "metadata": {
  "kernelspec": {
   "display_name": "Python 3",
   "language": "python",
   "name": "python3"
  },
  "language_info": {
   "codemirror_mode": {
    "name": "ipython",
    "version": 3
   },
   "file_extension": ".py",
   "mimetype": "text/x-python",
   "name": "python",
   "nbconvert_exporter": "python",
   "pygments_lexer": "ipython3",
   "version": "3.12.1"
  }
 },
 "nbformat": 4,
 "nbformat_minor": 5
}
