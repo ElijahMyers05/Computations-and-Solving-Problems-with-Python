{
 "cells": [
  {
   "cell_type": "code",
   "execution_count": 1,
   "id": "1063def2",
   "metadata": {},
   "outputs": [
    {
     "name": "stdout",
     "output_type": "stream",
     "text": [
      "14\n"
     ]
    }
   ],
   "source": [
    "# Len function\n",
    "# Return the number of elements in the collection\n",
    "text = \"Hello, Python!\"\n",
    "length = len(text)\n",
    "print(length)"
   ]
  },
  {
   "cell_type": "code",
   "execution_count": 4,
   "id": "201f5f15",
   "metadata": {},
   "outputs": [
    {
     "name": "stdout",
     "output_type": "stream",
     "text": [
      "E\n",
      "i\n",
      "h\n",
      "j\n"
     ]
    }
   ],
   "source": [
    "# Access the Elements\n",
    "name = \"Elijah\"\n",
    "print(name[0])\n",
    "print(name[2])\n",
    "\n",
    "# Use negative indices \n",
    "print(name[-1]) # last character\n",
    "\n",
    "print(name[-3])"
   ]
  },
  {
   "cell_type": "code",
   "execution_count": 5,
   "id": "ce7fb452",
   "metadata": {},
   "outputs": [
    {
     "name": "stdout",
     "output_type": "stream",
     "text": [
      "Pyt\n",
      "tho\n",
      "ython\n",
      "Python\n",
      "Pyt\n",
      "hon\n",
      "Pto\n"
     ]
    }
   ],
   "source": [
    "# String Slicing\n",
    "language = \"Python\"\n",
    "print(language[0:3]) # Prints first 3 Characters\n",
    "print(language[2:5])\n",
    "\n",
    "print(language[1:len(language)])\n",
    "print(language[0:len(language)])\n",
    "\n",
    "# omit the first and the left indices\n",
    "print(language[:3])\n",
    "\n",
    "# use negative indices for slicing\n",
    "print(language[-3:])\n",
    "\n",
    "# set the step of slicing\n",
    "print(language[::2])\n"
   ]
  },
  {
   "cell_type": "code",
   "execution_count": null,
   "id": "d9fe26f4",
   "metadata": {},
   "outputs": [
    {
     "name": "stdout",
     "output_type": "stream",
     "text": [
      "56789\n",
      "6789\n",
      "12389\n"
     ]
    }
   ],
   "source": [
    "text = \"123456789\"\n",
    "# Print the second half of the string\n",
    "print(text[len(text) // 2:])\n",
    "print(text[5:9])\n",
    "\n",
    "# Print the first 3 characters and last 2 characters \n",
    "print(text[0:3] + text[-2::])"
   ]
  },
  {
   "cell_type": "code",
   "execution_count": null,
   "id": "283729e9",
   "metadata": {},
   "outputs": [],
   "source": []
  }
 ],
 "metadata": {
  "kernelspec": {
   "display_name": "Python 3",
   "language": "python",
   "name": "python3"
  },
  "language_info": {
   "codemirror_mode": {
    "name": "ipython",
    "version": 3
   },
   "file_extension": ".py",
   "mimetype": "text/x-python",
   "name": "python",
   "nbconvert_exporter": "python",
   "pygments_lexer": "ipython3",
   "version": "3.12.1"
  }
 },
 "nbformat": 4,
 "nbformat_minor": 5
}
