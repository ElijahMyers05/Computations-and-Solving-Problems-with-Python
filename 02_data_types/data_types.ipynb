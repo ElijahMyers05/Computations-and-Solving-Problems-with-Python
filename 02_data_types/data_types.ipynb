{
 "cells": [
  {
   "cell_type": "code",
   "execution_count": 3,
   "id": "82e84b6f",
   "metadata": {},
   "outputs": [
    {
     "name": "stdout",
     "output_type": "stream",
     "text": [
      "0.3\n"
     ]
    }
   ],
   "source": [
    "# decimal \n",
    "from decimal import Decimal\n",
    "d = Decimal(\"0.1\") + Decimal(\"0.1\") + Decimal(\"0.1\")\n",
    "print(d)\n"
   ]
  },
  {
   "cell_type": "code",
   "execution_count": null,
   "id": "c3549113",
   "metadata": {},
   "outputs": [
    {
     "data": {
      "text/plain": [
       "True"
      ]
     },
     "execution_count": 4,
     "metadata": {},
     "output_type": "execute_result"
    }
   ],
   "source": [
    "#Boolean Code\n",
    ">>> int(True) # True behaves like 1\n",
    "1\n",
    ">>> int(False) # False behaves like 0\n",
    "0\n",
    ">>> bool(1) # 1 evaluates to True in a Boolean context\n",
    "True\n",
    ">>> bool(-42) # and so does every non-zero number\n",
    "True\n",
    ">>> bool(0) # 0 evaluates to False\n",
    "False\n",
    ">>> not True\n",
    "False\n",
    ">>> not False\n",
    "True\n",
    ">>> True and True\n",
    "True\n",
    ">>> False or True\n",
    "True\n"
   ]
  },
  {
   "cell_type": "code",
   "execution_count": null,
   "id": "61dff129",
   "metadata": {},
   "outputs": [],
   "source": []
  }
 ],
 "metadata": {
  "kernelspec": {
   "display_name": ".venv",
   "language": "python",
   "name": "python3"
  },
  "language_info": {
   "codemirror_mode": {
    "name": "ipython",
    "version": 3
   },
   "file_extension": ".py",
   "mimetype": "text/x-python",
   "name": "python",
   "nbconvert_exporter": "python",
   "pygments_lexer": "ipython3",
   "version": "3.12.3"
  }
 },
 "nbformat": 4,
 "nbformat_minor": 5
}
